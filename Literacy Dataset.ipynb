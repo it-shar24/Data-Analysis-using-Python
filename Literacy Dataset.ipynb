{
 "cells": [
  {
   "cell_type": "code",
   "execution_count": 2,
   "id": "b76fc8f7-59dd-4774-a0e3-f5a985c0638e",
   "metadata": {},
   "outputs": [],
   "source": [
    "# importing libraries\n",
    "import pandas as pd\n",
    "from matplotlib import pyplot as plt\n",
    "import seaborn as sns"
   ]
  },
  {
   "cell_type": "code",
   "execution_count": 4,
   "id": "e4c5ae1a-32ad-418a-9c91-4d7469da3e86",
   "metadata": {},
   "outputs": [],
   "source": [
    "# loading dataset\n",
    "df = pd.read_csv('Literacy Data 2011.csv')"
   ]
  },
  {
   "cell_type": "code",
   "execution_count": 6,
   "id": "527364e4-16d8-4d05-8ff2-3fb8a6e14115",
   "metadata": {},
   "outputs": [
    {
     "data": {
      "text/html": [
       "<div>\n",
       "<style scoped>\n",
       "    .dataframe tbody tr th:only-of-type {\n",
       "        vertical-align: middle;\n",
       "    }\n",
       "\n",
       "    .dataframe tbody tr th {\n",
       "        vertical-align: top;\n",
       "    }\n",
       "\n",
       "    .dataframe thead th {\n",
       "        text-align: right;\n",
       "    }\n",
       "</style>\n",
       "<table border=\"1\" class=\"dataframe\">\n",
       "  <thead>\n",
       "    <tr style=\"text-align: right;\">\n",
       "      <th></th>\n",
       "      <th>Unnamed: 0</th>\n",
       "      <th>District</th>\n",
       "      <th>State</th>\n",
       "      <th>Literacy</th>\n",
       "    </tr>\n",
       "  </thead>\n",
       "  <tbody>\n",
       "    <tr>\n",
       "      <th>0</th>\n",
       "      <td>1</td>\n",
       "      <td>Thane</td>\n",
       "      <td>Maharashtra</td>\n",
       "      <td>84.53</td>\n",
       "    </tr>\n",
       "    <tr>\n",
       "      <th>1</th>\n",
       "      <td>2</td>\n",
       "      <td>North Twenty Four Parganas</td>\n",
       "      <td>West Bengal</td>\n",
       "      <td>84.06</td>\n",
       "    </tr>\n",
       "    <tr>\n",
       "      <th>2</th>\n",
       "      <td>3</td>\n",
       "      <td>Bangalore</td>\n",
       "      <td>Karnataka</td>\n",
       "      <td>87.67</td>\n",
       "    </tr>\n",
       "    <tr>\n",
       "      <th>3</th>\n",
       "      <td>4</td>\n",
       "      <td>Pune</td>\n",
       "      <td>Maharashtra</td>\n",
       "      <td>86.15</td>\n",
       "    </tr>\n",
       "    <tr>\n",
       "      <th>4</th>\n",
       "      <td>5</td>\n",
       "      <td>Mumbai Suburban</td>\n",
       "      <td>Maharashtra</td>\n",
       "      <td>89.91</td>\n",
       "    </tr>\n",
       "  </tbody>\n",
       "</table>\n",
       "</div>"
      ],
      "text/plain": [
       "   Unnamed: 0                     District         State  Literacy\n",
       "0           1                        Thane   Maharashtra     84.53\n",
       "1           2   North Twenty Four Parganas   West Bengal     84.06\n",
       "2           3                    Bangalore     Karnataka     87.67\n",
       "3           4                         Pune   Maharashtra     86.15\n",
       "4           5              Mumbai Suburban   Maharashtra     89.91"
      ]
     },
     "execution_count": 6,
     "metadata": {},
     "output_type": "execute_result"
    }
   ],
   "source": [
    "# display top 5 rows\n",
    "df.head()"
   ]
  },
  {
   "cell_type": "code",
   "execution_count": 8,
   "id": "20054b9f-25da-4961-aa89-468349b3b178",
   "metadata": {},
   "outputs": [
    {
     "name": "stdout",
     "output_type": "stream",
     "text": [
      "634\n"
     ]
    }
   ],
   "source": [
    "# checking for unique values\n",
    "distinct_district = df['District'].nunique()\n",
    "print(distinct_district)"
   ]
  },
  {
   "cell_type": "code",
   "execution_count": 10,
   "id": "deb1208c-8a3d-47af-9769-64b9023517c9",
   "metadata": {},
   "outputs": [
    {
     "name": "stdout",
     "output_type": "stream",
     "text": [
      "35\n"
     ]
    }
   ],
   "source": [
    "#checking for unique values\n",
    "distinct_state = df['State'].nunique()\n",
    "print(distinct_state)"
   ]
  },
  {
   "cell_type": "code",
   "execution_count": 12,
   "id": "4cac9b0f-2683-4e3d-bc69-ee8c3e75ba30",
   "metadata": {},
   "outputs": [
    {
     "name": "stdout",
     "output_type": "stream",
     "text": [
      "   Unnamed: 0                     District         State  Literacy  State Code\n",
      "0           1                        Thane   Maharashtra     84.53          20\n",
      "1           2   North Twenty Four Parganas   West Bengal     84.06          34\n",
      "2           3                    Bangalore     Karnataka     87.67          16\n",
      "3           4                         Pune   Maharashtra     86.15          20\n",
      "4           5              Mumbai Suburban   Maharashtra     89.91          20\n"
     ]
    }
   ],
   "source": [
    "# converting 35 distinct states in categorical data\n",
    "# using Categorical function\n",
    "# Convert 'State' column to categorical type\n",
    "df['State'] = pd.Categorical(df['State'])\n",
    "# Get the numerical codes (integer values) for each state\n",
    "df['State Code'] = df['State'].cat.codes\n",
    "print(df.head())"
   ]
  },
  {
   "cell_type": "code",
   "execution_count": 14,
   "id": "da409804-9451-4da3-8e45-f785400ccead",
   "metadata": {},
   "outputs": [],
   "source": [
    "# dropping non numerical columns\n",
    "df.drop(columns=['State', 'District'], inplace=True)"
   ]
  },
  {
   "cell_type": "code",
   "execution_count": 16,
   "id": "b1c56a4e-bb6a-4f17-b055-029fb3cadffc",
   "metadata": {},
   "outputs": [
    {
     "data": {
      "text/html": [
       "<div>\n",
       "<style scoped>\n",
       "    .dataframe tbody tr th:only-of-type {\n",
       "        vertical-align: middle;\n",
       "    }\n",
       "\n",
       "    .dataframe tbody tr th {\n",
       "        vertical-align: top;\n",
       "    }\n",
       "\n",
       "    .dataframe thead th {\n",
       "        text-align: right;\n",
       "    }\n",
       "</style>\n",
       "<table border=\"1\" class=\"dataframe\">\n",
       "  <thead>\n",
       "    <tr style=\"text-align: right;\">\n",
       "      <th></th>\n",
       "      <th>Unnamed: 0</th>\n",
       "      <th>Literacy</th>\n",
       "      <th>State Code</th>\n",
       "    </tr>\n",
       "  </thead>\n",
       "  <tbody>\n",
       "    <tr>\n",
       "      <th>0</th>\n",
       "      <td>1</td>\n",
       "      <td>84.53</td>\n",
       "      <td>20</td>\n",
       "    </tr>\n",
       "    <tr>\n",
       "      <th>1</th>\n",
       "      <td>2</td>\n",
       "      <td>84.06</td>\n",
       "      <td>34</td>\n",
       "    </tr>\n",
       "    <tr>\n",
       "      <th>2</th>\n",
       "      <td>3</td>\n",
       "      <td>87.67</td>\n",
       "      <td>16</td>\n",
       "    </tr>\n",
       "    <tr>\n",
       "      <th>3</th>\n",
       "      <td>4</td>\n",
       "      <td>86.15</td>\n",
       "      <td>20</td>\n",
       "    </tr>\n",
       "    <tr>\n",
       "      <th>4</th>\n",
       "      <td>5</td>\n",
       "      <td>89.91</td>\n",
       "      <td>20</td>\n",
       "    </tr>\n",
       "    <tr>\n",
       "      <th>...</th>\n",
       "      <td>...</td>\n",
       "      <td>...</td>\n",
       "      <td>...</td>\n",
       "    </tr>\n",
       "    <tr>\n",
       "      <th>635</th>\n",
       "      <td>636</td>\n",
       "      <td>78.06</td>\n",
       "      <td>0</td>\n",
       "    </tr>\n",
       "    <tr>\n",
       "      <th>636</th>\n",
       "      <td>637</td>\n",
       "      <td>59.99</td>\n",
       "      <td>2</td>\n",
       "    </tr>\n",
       "    <tr>\n",
       "      <th>637</th>\n",
       "      <td>638</td>\n",
       "      <td>76.81</td>\n",
       "      <td>13</td>\n",
       "    </tr>\n",
       "    <tr>\n",
       "      <th>638</th>\n",
       "      <td>639</td>\n",
       "      <td>56.46</td>\n",
       "      <td>2</td>\n",
       "    </tr>\n",
       "    <tr>\n",
       "      <th>639</th>\n",
       "      <td>640</td>\n",
       "      <td>64.10</td>\n",
       "      <td>2</td>\n",
       "    </tr>\n",
       "  </tbody>\n",
       "</table>\n",
       "<p>640 rows × 3 columns</p>\n",
       "</div>"
      ],
      "text/plain": [
       "     Unnamed: 0  Literacy  State Code\n",
       "0             1     84.53          20\n",
       "1             2     84.06          34\n",
       "2             3     87.67          16\n",
       "3             4     86.15          20\n",
       "4             5     89.91          20\n",
       "..          ...       ...         ...\n",
       "635         636     78.06           0\n",
       "636         637     59.99           2\n",
       "637         638     76.81          13\n",
       "638         639     56.46           2\n",
       "639         640     64.10           2\n",
       "\n",
       "[640 rows x 3 columns]"
      ]
     },
     "execution_count": 16,
     "metadata": {},
     "output_type": "execute_result"
    }
   ],
   "source": [
    "df"
   ]
  },
  {
   "cell_type": "code",
   "execution_count": 47,
   "id": "569572a3-d8bb-4683-a8d6-410d456c15aa",
   "metadata": {},
   "outputs": [],
   "source": [
    "# random 10 rows from the dataset\n",
    "# using sample function\n",
    "random_rows = df.sample(n=10)"
   ]
  },
  {
   "cell_type": "code",
   "execution_count": 20,
   "id": "fcc1406f-060c-43b9-b3b6-2e59059e0d41",
   "metadata": {},
   "outputs": [
    {
     "name": "stdout",
     "output_type": "stream",
     "text": [
      "     Unnamed: 0  Literacy  State Code\n",
      "135         136     81.48          20\n",
      "589         590     73.08          24\n",
      "15           16     81.80          34\n",
      "554         555     59.23          14\n",
      "469         470     65.27          32\n",
      "279         280     74.63          30\n",
      "143         144     86.57           9\n",
      "537         538     68.49          14\n",
      "27           28     88.39          20\n",
      "275         276     86.16          30\n"
     ]
    }
   ],
   "source": [
    "print(random_rows)"
   ]
  },
  {
   "cell_type": "code",
   "execution_count": 22,
   "id": "936e02d5-61c4-4e49-8b80-a9c735bd5b4f",
   "metadata": {},
   "outputs": [
    {
     "data": {
      "text/plain": [
       "(640, 3)"
      ]
     },
     "execution_count": 22,
     "metadata": {},
     "output_type": "execute_result"
    }
   ],
   "source": [
    "# shape of the dataset\n",
    "df.shape"
   ]
  },
  {
   "cell_type": "code",
   "execution_count": 24,
   "id": "a841c646-dc80-4d3e-9b51-e6cda5ebc411",
   "metadata": {},
   "outputs": [
    {
     "name": "stdout",
     "output_type": "stream",
     "text": [
      "Non-null count:\n",
      " Unnamed: 0    640\n",
      "Literacy      640\n",
      "State Code    640\n",
      "dtype: int64\n",
      "\n",
      "Data types:\n",
      " Unnamed: 0      int64\n",
      "Literacy      float64\n",
      "State Code       int8\n",
      "dtype: object\n"
     ]
    }
   ],
   "source": [
    "# Non-null count for each column\n",
    "non_null_count = df.count()\n",
    "\n",
    "# Data type of each column\n",
    "data_types = df.dtypes\n",
    "\n",
    "# Print results\n",
    "print(\"Non-null count:\\n\", non_null_count)\n",
    "print(\"\\nData types:\\n\", data_types)"
   ]
  },
  {
   "cell_type": "code",
   "execution_count": 26,
   "id": "e62cb94c-611d-4c04-afb3-14f86eab102d",
   "metadata": {},
   "outputs": [
    {
     "data": {
      "text/html": [
       "<div>\n",
       "<style scoped>\n",
       "    .dataframe tbody tr th:only-of-type {\n",
       "        vertical-align: middle;\n",
       "    }\n",
       "\n",
       "    .dataframe tbody tr th {\n",
       "        vertical-align: top;\n",
       "    }\n",
       "\n",
       "    .dataframe thead th {\n",
       "        text-align: right;\n",
       "    }\n",
       "</style>\n",
       "<table border=\"1\" class=\"dataframe\">\n",
       "  <thead>\n",
       "    <tr style=\"text-align: right;\">\n",
       "      <th></th>\n",
       "      <th>Unnamed: 0</th>\n",
       "      <th>Literacy</th>\n",
       "      <th>State Code</th>\n",
       "    </tr>\n",
       "  </thead>\n",
       "  <tbody>\n",
       "    <tr>\n",
       "      <th>count</th>\n",
       "      <td>640.000000</td>\n",
       "      <td>640.000000</td>\n",
       "      <td>640.000000</td>\n",
       "    </tr>\n",
       "    <tr>\n",
       "      <th>mean</th>\n",
       "      <td>320.500000</td>\n",
       "      <td>72.308422</td>\n",
       "      <td>18.639063</td>\n",
       "    </tr>\n",
       "    <tr>\n",
       "      <th>std</th>\n",
       "      <td>184.896367</td>\n",
       "      <td>10.488816</td>\n",
       "      <td>10.243180</td>\n",
       "    </tr>\n",
       "    <tr>\n",
       "      <th>min</th>\n",
       "      <td>1.000000</td>\n",
       "      <td>36.100000</td>\n",
       "      <td>0.000000</td>\n",
       "    </tr>\n",
       "    <tr>\n",
       "      <th>25%</th>\n",
       "      <td>160.750000</td>\n",
       "      <td>65.095000</td>\n",
       "      <td>11.000000</td>\n",
       "    </tr>\n",
       "    <tr>\n",
       "      <th>50%</th>\n",
       "      <td>320.500000</td>\n",
       "      <td>72.170000</td>\n",
       "      <td>19.000000</td>\n",
       "    </tr>\n",
       "    <tr>\n",
       "      <th>75%</th>\n",
       "      <td>480.250000</td>\n",
       "      <td>79.962500</td>\n",
       "      <td>28.000000</td>\n",
       "    </tr>\n",
       "    <tr>\n",
       "      <th>max</th>\n",
       "      <td>640.000000</td>\n",
       "      <td>97.910000</td>\n",
       "      <td>34.000000</td>\n",
       "    </tr>\n",
       "  </tbody>\n",
       "</table>\n",
       "</div>"
      ],
      "text/plain": [
       "       Unnamed: 0    Literacy  State Code\n",
       "count  640.000000  640.000000  640.000000\n",
       "mean   320.500000   72.308422   18.639063\n",
       "std    184.896367   10.488816   10.243180\n",
       "min      1.000000   36.100000    0.000000\n",
       "25%    160.750000   65.095000   11.000000\n",
       "50%    320.500000   72.170000   19.000000\n",
       "75%    480.250000   79.962500   28.000000\n",
       "max    640.000000   97.910000   34.000000"
      ]
     },
     "execution_count": 26,
     "metadata": {},
     "output_type": "execute_result"
    }
   ],
   "source": [
    "# overall stats\n",
    "df.describe()"
   ]
  },
  {
   "cell_type": "code",
   "execution_count": 55,
   "id": "d8ba5044-e712-44a6-b2f0-230ed353235b",
   "metadata": {},
   "outputs": [
    {
     "data": {
      "text/plain": [
       "Unnamed: 0    0.0\n",
       "Literacy      0.0\n",
       "State Code    0.0\n",
       "dtype: float64"
      ]
     },
     "execution_count": 55,
     "metadata": {},
     "output_type": "execute_result"
    }
   ],
   "source": [
    "# null values in percentage\n",
    "df.isnull().sum()/(len(df))*100"
   ]
  },
  {
   "cell_type": "code",
   "execution_count": 30,
   "id": "9006b4c7-3519-4030-b708-672b3b285335",
   "metadata": {},
   "outputs": [
    {
     "data": {
      "text/html": [
       "<div>\n",
       "<style scoped>\n",
       "    .dataframe tbody tr th:only-of-type {\n",
       "        vertical-align: middle;\n",
       "    }\n",
       "\n",
       "    .dataframe tbody tr th {\n",
       "        vertical-align: top;\n",
       "    }\n",
       "\n",
       "    .dataframe thead th {\n",
       "        text-align: right;\n",
       "    }\n",
       "</style>\n",
       "<table border=\"1\" class=\"dataframe\">\n",
       "  <thead>\n",
       "    <tr style=\"text-align: right;\">\n",
       "      <th></th>\n",
       "      <th>Unnamed: 0</th>\n",
       "      <th>Literacy</th>\n",
       "      <th>State Code</th>\n",
       "    </tr>\n",
       "  </thead>\n",
       "  <tbody>\n",
       "    <tr>\n",
       "      <th>Unnamed: 0</th>\n",
       "      <td>1.000000</td>\n",
       "      <td>0.008753</td>\n",
       "      <td>-0.143790</td>\n",
       "    </tr>\n",
       "    <tr>\n",
       "      <th>Literacy</th>\n",
       "      <td>0.008753</td>\n",
       "      <td>1.000000</td>\n",
       "      <td>0.130871</td>\n",
       "    </tr>\n",
       "    <tr>\n",
       "      <th>State Code</th>\n",
       "      <td>-0.143790</td>\n",
       "      <td>0.130871</td>\n",
       "      <td>1.000000</td>\n",
       "    </tr>\n",
       "  </tbody>\n",
       "</table>\n",
       "</div>"
      ],
      "text/plain": [
       "            Unnamed: 0  Literacy  State Code\n",
       "Unnamed: 0    1.000000  0.008753   -0.143790\n",
       "Literacy      0.008753  1.000000    0.130871\n",
       "State Code   -0.143790  0.130871    1.000000"
      ]
     },
     "execution_count": 30,
     "metadata": {},
     "output_type": "execute_result"
    }
   ],
   "source": [
    "# correlations between variables\n",
    "df.corr()"
   ]
  },
  {
   "cell_type": "code",
   "execution_count": 57,
   "id": "917fa351-bf4a-420d-a984-54747aa0aaa0",
   "metadata": {},
   "outputs": [
    {
     "name": "stdout",
     "output_type": "stream",
     "text": [
      "            State Code  Literacy\n",
      "State Code    1.000000  0.130871\n",
      "Literacy      0.130871  1.000000\n"
     ]
    },
    {
     "data": {
      "image/png": "[encoded data removed]",
      "text/plain": [
       "<Figure size 1000x800 with 2 Axes>"
      ]
     },
     "metadata": {},
     "output_type": "display_data"
    }
   ],
   "source": [
    "# Calculate the correlation matrix between 'State Code' and 'Literacy' columns\n",
    "correlation_matrix = df[['State Code', 'Literacy']].corr()\n",
    "print(correlation_matrix)\n",
    "# Heatmap to show correlation\n",
    "plt.figure(figsize=(10, 8))\n",
    "sns.heatmap(correlation_matrix, annot=True, cmap='coolwarm', fmt='.2f', linewidths=0.5)\n",
    "# Display the plot with a title\n",
    "plt.title('Correlation Heatmap between State Code and Literacy')\n",
    "plt.show()"
   ]
  },
  {
   "cell_type": "code",
   "execution_count": 34,
   "id": "6adf0556-c3a8-40fa-acdc-1d3d396aa594",
   "metadata": {},
   "outputs": [
    {
     "data": {
      "image/png": "[encoded data removed]",
      "text/plain": [
       "<Figure size 800x600 with 1 Axes>"
      ]
     },
     "metadata": {},
     "output_type": "display_data"
    }
   ],
   "source": [
    "# Boxplot to visualize potential outliers\n",
    "plt.figure(figsize=(8, 6))\n",
    "sns.boxplot(x=df['Literacy'])  # Replace 'Literacy' with the column you want to check\n",
    "plt.title('Boxplot to Detect Outliers')\n",
    "plt.show()"
   ]
  },
  {
   "cell_type": "code",
   "execution_count": 36,
   "id": "ce188c13-85fa-4a4e-bdbb-4982baa68f48",
   "metadata": {},
   "outputs": [],
   "source": [
    "# Calculate IQR for removing outliers\n",
    "Q1 = df['Literacy'].quantile(0.25)  # First quartile (25%)\n",
    "Q3 = df['Literacy'].quantile(0.75)  # Third quartile (75%)\n",
    "IQR = Q3 - Q1  # Interquartile Range"
   ]
  },
  {
   "cell_type": "code",
   "execution_count": 49,
   "id": "1bd185a1-93b5-43b0-bd6c-9c4246a3d285",
   "metadata": {},
   "outputs": [
    {
     "name": "stdout",
     "output_type": "stream",
     "text": [
      "42.79374999999999\n",
      "102.26375000000002\n"
     ]
    }
   ],
   "source": [
    "# Calculate the bounds to define outliers\n",
    "lower_bound = Q1 - 1.5 * IQR\n",
    "upper_bound = Q3 + 1.5 * IQR\n",
    "print(lower_bound)\n",
    "print(upper_bound)"
   ]
  },
  {
   "cell_type": "code",
   "execution_count": 40,
   "id": "db4fa1de-cd9f-45e4-9082-99e08445ef9a",
   "metadata": {},
   "outputs": [],
   "source": [
    "# Remove outliers by filtering data\n",
    "df_cleaned = df[(df['Literacy'] >= lower_bound) & (df['Literacy'] <= upper_bound)]"
   ]
  },
  {
   "cell_type": "code",
   "execution_count": 42,
   "id": "58473024-9cd1-4d13-8502-b8cb3766ef3b",
   "metadata": {},
   "outputs": [
    {
     "name": "stdout",
     "output_type": "stream",
     "text": [
      "Original DataFrame size: (640, 3)\n",
      "Cleaned DataFrame size: (637, 3)\n"
     ]
    }
   ],
   "source": [
    "# Show the cleaned DataFrame\n",
    "print(f\"Original DataFrame size: {df.shape}\")\n",
    "print(f\"Cleaned DataFrame size: {df_cleaned.shape}\")"
   ]
  },
  {
   "cell_type": "code",
   "execution_count": 44,
   "id": "390323d0-bac8-461b-b6ef-a15d30c96438",
   "metadata": {},
   "outputs": [
    {
     "data": {
      "image/png": "[encoded data removed]",
      "text/plain": [
       "<Figure size 800x600 with 1 Axes>"
      ]
     },
     "metadata": {},
     "output_type": "display_data"
    }
   ],
   "source": [
    "# Re-plot the boxplot for the cleaned data\n",
    "plt.figure(figsize=(8, 6))\n",
    "sns.boxplot(x=df_cleaned['Literacy'])\n",
    "plt.title('Boxplot after Removing Outliers')\n",
    "plt.show()"
   ]
  }
 ],
 "metadata": {
  "kernelspec": {
   "display_name": "Python 3 (ipykernel)",
   "language": "python",
   "name": "python3"
  },
  "language_info": {
   "codemirror_mode": {
    "name": "ipython",
    "version": 3
   },
   "file_extension": ".py",
   "mimetype": "text/x-python",
   "name": "python",
   "nbconvert_exporter": "python",
   "pygments_lexer": "ipython3",
   "version": "3.12.4"
  }
 },
 "nbformat": 4,
 "nbformat_minor": 5
}
